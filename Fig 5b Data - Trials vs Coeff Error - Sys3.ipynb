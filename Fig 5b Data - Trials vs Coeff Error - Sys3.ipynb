{
 "cells": [
  {
   "cell_type": "markdown",
   "metadata": {},
   "source": [
    "## Number of Trials vs Coefficient Estimate Error\n",
    "\n",
    "Tests the effect of Gaussian white noise on the estimated coefficients "
   ]
  },
  {
   "cell_type": "code",
   "execution_count": 1,
   "metadata": {},
   "outputs": [],
   "source": [
    "%load_ext autoreload\n",
    "%autoreload 2\n",
    "\n",
    "# Import Python packages\n",
    "import pickle\n",
    "\n",
    "# Package Imports\n",
    "from sindy_bvp import SINDyBVP\n",
    "from sindy_bvp.differentiators import PolyInterp\n",
    "from sindy_bvp.library_builders import NoiseMaker"
   ]
  },
  {
   "cell_type": "code",
   "execution_count": 2,
   "metadata": {},
   "outputs": [],
   "source": [
    "# Set file to load and stem for saving\n",
    "load_stem = \"./data/S3-P2-\"\n",
    "save_stem = \"./data/Fig5b-S3-\""
   ]
  },
  {
   "cell_type": "code",
   "execution_count": 3,
   "metadata": {},
   "outputs": [
    {
     "name": "stdout",
     "output_type": "stream",
     "text": [
      "Completed: 10 | 20 | 30 | 40 | 50 | 60 | 70 | 80 | 90 | 100 | 110 | 120 | 130 | 140 | 150 | 160 | 170 | 180 | 190 | 200 | Wall time: 28min 6s\n"
     ]
    }
   ],
   "source": [
    "%%time\n",
    "\n",
    "# Set a range of noise magnitudes to test\n",
    "num_trials = [10, 20, 30, 40, 50,\n",
    "              60, 70, 80, 90, 100,\n",
    "              110, 120, 130, 140, 150,\n",
    "              160, 170, 180, 190, 200]\n",
    "\n",
    "# Since the data is noisy, we'll use a Polynomial Interpolation derivative method\n",
    "poly = PolyInterp(diff_order=2, width=20, degree=5)\n",
    "\n",
    "# Initialize NoiseMaker, which adds 1% noise then filters noisy signal\n",
    "nm = NoiseMaker(noise_magnitude=0.01)\n",
    "\n",
    "# Create an empty\n",
    "results_list = []\n",
    "\n",
    "print(\"Completed:\", end=\" \")\n",
    "for trial_count in num_trials:\n",
    "    # Initialize SINDyBVP object\n",
    "    sbvp = SINDyBVP(file_stem = load_stem,\n",
    "                    num_trials = trial_count,\n",
    "                    differentiator = poly,\n",
    "                    outcome_var = 'd^{2}u/dx^{2}',\n",
    "                    noisemaker = nm,\n",
    "                    known_vars = ['u', 'u^{2}', 'du/dx', 'f'],\n",
    "                    dep_var_name = 'u',\n",
    "                    ind_var_name = 'x')\n",
    "\n",
    "    # Execute the optimization\n",
    "    coeffs, plotter = sbvp.sindy_bvp()\n",
    "\n",
    "    # Compute the S-L coeffs with Plotter analysis tool\n",
    "    plotter.compute_sl_coeffs()\n",
    "    \n",
    "    # gather the learned coefficients and relevant metrics\n",
    "    # And place into the results_list\n",
    "    results_list.append({'num_trials': trial_count,\n",
    "                         'loss': min(sbvp.groupreg.Losses),\n",
    "                         'p': plotter.inferred_phi, \n",
    "                         'q': plotter.inferred_q,\n",
    "                         'coeffs': coeffs})\n",
    "    \n",
    "    print(trial_count, end=\" | \")"
   ]
  },
  {
   "cell_type": "code",
   "execution_count": 4,
   "metadata": {},
   "outputs": [],
   "source": [
    "## Pickle the results\n",
    "pickle.dump(results_list, open(save_stem+\"results.pickle\", \"wb\"))"
   ]
  }
 ],
 "metadata": {
  "kernelspec": {
   "display_name": "Python 3",
   "language": "python",
   "name": "python3"
  },
  "language_info": {
   "codemirror_mode": {
    "name": "ipython",
    "version": 3
   },
   "file_extension": ".py",
   "mimetype": "text/x-python",
   "name": "python",
   "nbconvert_exporter": "python",
   "pygments_lexer": "ipython3",
   "version": "3.8.5"
  }
 },
 "nbformat": 4,
 "nbformat_minor": 2
}
