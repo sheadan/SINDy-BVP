{
 "cells": [
  {
   "cell_type": "markdown",
   "metadata": {},
   "source": [
    "## Noise Magnitude vs Coefficient Estimate Error\n",
    "\n",
    "Tests the effect of Gaussian white noise on the estimated coefficients "
   ]
  },
  {
   "cell_type": "code",
   "execution_count": 1,
   "metadata": {},
   "outputs": [],
   "source": [
    "%load_ext autoreload\n",
    "%autoreload 2\n",
    "\n",
    "# Import Python packages\n",
    "import pickle\n",
    "\n",
    "# Package Imports\n",
    "from sindy_bvp import SINDyBVP\n",
    "from sindy_bvp.differentiators import PolyInterp\n",
    "from sindy_bvp.library_builders import NoiseMaker"
   ]
  },
  {
   "cell_type": "code",
   "execution_count": 2,
   "metadata": {},
   "outputs": [],
   "source": [
    "# Set file to load and stem for saving\n",
    "load_stem = \"./data/S4-EB-\"\n",
    "save_stem = \"./data/Fig5a-S4-\""
   ]
  },
  {
   "cell_type": "code",
   "execution_count": 3,
   "metadata": {},
   "outputs": [
    {
     "name": "stdout",
     "output_type": "stream",
     "text": [
      "Completed: 0.001 | 0.005 | 0.01 | 0.02 | 0.03 | 0.04 | 0.05 | 0.075 | 0.1 | Wall time: 28min\n"
     ]
    }
   ],
   "source": [
    "%%time\n",
    "\n",
    "# Set a range of noise magnitudes to test\n",
    "noise_magnitudes = [0.001, 0.005, 0.01, 0.02, 0.03, 0.04, 0.05, 0.075, 0.10]\n",
    "\n",
    "# Since the data is noisy, we'll use a Polynomial Interpolation derivative method\n",
    "poly = PolyInterp(diff_order=4, width=30, degree=6)\n",
    "\n",
    "# Create an empty\n",
    "results_list = []\n",
    "\n",
    "print(\"Completed:\", end=\" \")\n",
    "for noise_mag in noise_magnitudes:\n",
    "    # Initialize NoiseMaker, which adds noise then filters noisy signal\n",
    "    nm = NoiseMaker(noise_magnitude=noise_mag)\n",
    "\n",
    "    # Initialize SINDyBVP object\n",
    "    sbvp = SINDyBVP(file_stem = load_stem,\n",
    "                    num_trials = 200,\n",
    "                    differentiator = poly,\n",
    "                    outcome_var = 'd^{4}u/dx^{4}',\n",
    "                    noisemaker = nm,\n",
    "                    known_vars = ['u', 'u^{2}', 'du/dx', 'f'],\n",
    "                    dep_var_name = 'u',\n",
    "                    ind_var_name = 'x')\n",
    "\n",
    "    # Execute the optimization\n",
    "    coeffs, plotter = sbvp.sindy_bvp()\n",
    "\n",
    "    # Compute the S-L coeffs with Plotter analysis tool\n",
    "    plotter.compute_sl_coeffs()\n",
    "    \n",
    "    # gather the learned coefficients and relevant metrics\n",
    "    # And place into the results_list\n",
    "    results_list.append({'noise_mag': noise_mag,\n",
    "                         'loss': min(sbvp.groupreg.Losses),\n",
    "                         'p': plotter.inferred_phi, \n",
    "                         'q': plotter.inferred_q,\n",
    "                         'coeffs': coeffs})\n",
    "    \n",
    "    print(noise_mag, end=\" | \")"
   ]
  },
  {
   "cell_type": "code",
   "execution_count": 4,
   "metadata": {},
   "outputs": [],
   "source": [
    "## Pickle the results\n",
    "pickle.dump(results_list, open(save_stem+\"results.pickle\", \"wb\"))"
   ]
  }
 ],
 "metadata": {
  "kernelspec": {
   "display_name": "Python 3",
   "language": "python",
   "name": "python3"
  },
  "language_info": {
   "codemirror_mode": {
    "name": "ipython",
    "version": 3
   },
   "file_extension": ".py",
   "mimetype": "text/x-python",
   "name": "python",
   "nbconvert_exporter": "python",
   "pygments_lexer": "ipython3",
   "version": "3.8.5"
  }
 },
 "nbformat": 4,
 "nbformat_minor": 2
}
