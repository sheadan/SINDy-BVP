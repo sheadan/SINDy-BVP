{
 "cells": [
  {
   "cell_type": "code",
   "execution_count": 1,
   "metadata": {},
   "outputs": [],
   "source": [
    "# Import Python packages\n",
    "import pickle\n",
    "\n",
    "# Import Third party packages\n",
    "import numpy as np\n",
    "import matplotlib.pyplot as plt"
   ]
  },
  {
   "cell_type": "code",
   "execution_count": 2,
   "metadata": {},
   "outputs": [],
   "source": [
    "S1_terms = ['u', 'du/dx', 'f']\n",
    "S2_terms = ['u', 'du/dx', 'f', 'u^{2}']\n",
    "S3_terms = ['du/dx', 'f']\n",
    "S4_terms = ['f']\n",
    "\n",
    "true_terms = [S1_terms, S2_terms, S3_terms, S4_terms]\n",
    "tags = [\"S1\", \"NLSL\", \"S3\", \"S4\"]"
   ]
  },
  {
   "cell_type": "code",
   "execution_count": 3,
   "metadata": {},
   "outputs": [],
   "source": [
    "def compute_spurious_terms(results, true_terms):\n",
    "    # Count the number of incorrectly ID'ed terms and missing terms\n",
    "    for result in results:\n",
    "        coeffs = result['coeffs']\n",
    "        spurious_terms = 0\n",
    "        # Count the incorrect terms identified\n",
    "        for term in coeffs:\n",
    "            if term not in true_terms:\n",
    "                # if it isn't, increment counter\n",
    "                spurious_terms += 1\n",
    "        # Count if any terms are missing from learned model\n",
    "        for term in true_terms:\n",
    "            if term not in coeffs:\n",
    "                # if it isn't, increment counter\n",
    "                spurious_terms += 1\n",
    "        result['spurious'] = spurious_terms\n",
    "    return results"
   ]
  },
  {
   "cell_type": "code",
   "execution_count": 4,
   "metadata": {},
   "outputs": [
    {
     "name": "stdout",
     "output_type": "stream",
     "text": [
      "S1 dict_keys(['u', 'du/dx', 'f'])\n",
      "NLSL dict_keys(['u', 'u^{2}', 'du/dx', 'f'])\n",
      "S3 dict_keys(['du/dx', 'f'])\n",
      "S4 dict_keys(['u', 'u^{2}', 'u^{3}', 'u^{4}', 'u^{5}', 'x', 'du/dx', 'd^{2}u/dx^{2}', 'd^{3}u/dx^{3}', 'u*du/dx', 'u*d^{2}u/dx^{2}', 'u*d^{3}u/dx^{3}', 'u^{2}*du/dx', 'u^{2}*d^{2}u/dx^{2}', 'u^{2}*d^{3}u/dx^{3}', 'u^{3}*du/dx', 'u^{3}*d^{2}u/dx^{2}', 'u^{3}*d^{3}u/dx^{3}', 'u^{4}*du/dx', 'u^{4}*d^{2}u/dx^{2}', 'u^{4}*d^{3}u/dx^{3}', 'u^{5}*du/dx', 'u^{5}*d^{2}u/dx^{2}', 'u^{5}*d^{3}u/dx^{3}', 'f'])\n"
     ]
    }
   ],
   "source": [
    "# Create empty list for plotting\n",
    "plot_lists = []\n",
    "\n",
    "# Prepare the results list\n",
    "for tag, true_term in zip(tags, true_terms):\n",
    "    # define file stem, load data, compute spurious terms\n",
    "    file_stem = \"./data/Fig4b-{}-\".format(tag)\n",
    "    results = pickle.load(open(file_stem +\"results.pickle\", \"rb\"))\n",
    "    results = compute_spurious_terms(results, true_term)\n",
    "    print(tag, results[-1]['coeffs'].keys())\n",
    "    # Prepare lists for plotting\n",
    "    plot_trials = [result['num_trials'] for result in results]\n",
    "    plot_losses = [result['loss']/result['num_trials'] for result in results]\n",
    "    min_loss = min(plot_losses)\n",
    "    plot_losses = [loss-min_loss for loss in plot_losses]\n",
    "    plot_spurious = [result['spurious'] for result in results]\n",
    "    # save to plot_lists:\n",
    "    plot_lists.append([plot_trials, plot_losses, plot_spurious])"
   ]
  },
  {
   "cell_type": "code",
   "execution_count": 5,
   "metadata": {
    "scrolled": true
   },
   "outputs": [
    {
     "data": {
      "image/png": "[encoded data removed]",
      "text/plain": [
       "<Figure size 432x288 with 8 Axes>"
      ]
     },
     "metadata": {
      "needs_background": "light"
     },
     "output_type": "display_data"
    }
   ],
   "source": [
    "import matplotlib as mpl\n",
    "mpl.rcParams[\"legend.markerscale\"] = 1.5\n",
    "mpl.rcParams[\"legend.labelspacing\"] = 1.2\n",
    "mpl.rcParams[\"legend.handlelength\"] = 3.5\n",
    "mpl.rcParams[\"legend.handletextpad\"] = 20\n",
    "pltstyle=dict(linestyle=None,marker='o')\n",
    "figsize = (6,4)\n",
    "\n",
    "\n",
    "# Create figure\n",
    "fig, axs = plt.subplots(4,1, sharex=True, figsize=figsize)\n",
    "\n",
    "axs = axs.flatten()\n",
    "\n",
    "for ax1, plot_list in zip(axs,plot_lists):\n",
    "    # Get the results:\n",
    "    plot_trials, plot_losses, plot_spurious = plot_list\n",
    "    \n",
    "    # set axes\n",
    "    ax1.autoscale(False, axis='y')\n",
    "    ax2 = ax1.twinx()\n",
    "    \n",
    "    ax1.plot(plot_trials, plot_losses, color='black', label = \"PDE Find Loss Error\", **pltstyle)\n",
    "    ax2.plot(plot_trials, plot_spurious, color='red', label=\"# Spurious Terms\", **pltstyle)\n",
    "    \n",
    "    ax2.spines['right'].set_color('red')\n",
    "    \n",
    "    # Place the legend\n",
    "    lines = ax1.get_lines()+ax2.get_lines()\n",
    "    labels = [line.get_label() for line in lines]\n",
    "    labels = ['' for line in lines]\n",
    "    \n",
    "    # adjust axis scales\n",
    "    ax1.set_ylim([0,5])\n",
    "\n",
    "\n",
    "# Turn off all the tick labels\n",
    "#ax1.tick_params(labelbottom=False, labelleft=False)\n",
    "#ax2.tick_params(labelright=False)\n",
    "#ax2.tick_params(axis='y', colors='red')\n",
    "## Save figure\n",
    "#plt.savefig('./Figs/4a-NLSL-noise-vs-error.svg', dpi=600, transparent=True)\n",
    "\n",
    "plt.show()"
   ]
  },
  {
   "cell_type": "code",
   "execution_count": 6,
   "metadata": {},
   "outputs": [
    {
     "data": {
      "text/plain": [
       "<matplotlib.legend.Legend at 0x1f9351ae3a0>"
      ]
     },
     "execution_count": 6,
     "metadata": {},
     "output_type": "execute_result"
    },
    {
     "data": {
      "image/png": "[encoded data removed]",
      "text/plain": [
       "<Figure size 864x57.6 with 1 Axes>"
      ]
     },
     "metadata": {},
     "output_type": "display_data"
    }
   ],
   "source": [
    "# Create separate axes\n",
    "legend_figsize = (figsize[0]*2, figsize[1]/5)\n",
    "plt.figure(figsize=legend_figsize)\n",
    "ax = plt.gca()\n",
    "for spine in ax.spines:\n",
    "    ax.spines[spine].set_visible(False)\n",
    "ax.tick_params(labelleft=False, labelbottom=False, left=False, bottom=False)\n",
    "plt.legend(lines, labels, ncol=2, loc='center', frameon=False)\n",
    "#plt.savefig('./Figs/4-legend.svg', dpi=600, transparent=True)"
   ]
  }
 ],
 "metadata": {
  "kernelspec": {
   "display_name": "Python 3",
   "language": "python",
   "name": "python3"
  },
  "language_info": {
   "codemirror_mode": {
    "name": "ipython",
    "version": 3
   },
   "file_extension": ".py",
   "mimetype": "text/x-python",
   "name": "python",
   "nbconvert_exporter": "python",
   "pygments_lexer": "ipython3",
   "version": "3.7.9"
  }
 },
 "nbformat": 4,
 "nbformat_minor": 2
}
