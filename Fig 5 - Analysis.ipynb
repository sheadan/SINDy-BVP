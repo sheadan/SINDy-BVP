{
 "cells": [
  {
   "cell_type": "code",
   "execution_count": 1,
   "metadata": {},
   "outputs": [],
   "source": [
    "# Import Python packages\n",
    "import pickle\n",
    "\n",
    "# Third-Party Imports\n",
    "import matplotlib.pyplot as plt\n",
    "import numpy as np"
   ]
  },
  {
   "cell_type": "code",
   "execution_count": 2,
   "metadata": {},
   "outputs": [],
   "source": [
    "def score_p(results, true_coeffs):\n",
    "    for result in results:\n",
    "        len_diff = int((len(true_coeffs['p'])-len(result['p']))/2)\n",
    "        diff = true_coeffs['p'][len_diff:-len_diff] - result['p']\n",
    "        score = np.linalg.norm(diff)\n",
    "        score = score/np.linalg.norm(true_coeffs['p'][len_diff:-len_diff])\n",
    "        result['score'] = score\n",
    "    return results"
   ]
  },
  {
   "cell_type": "code",
   "execution_count": 3,
   "metadata": {},
   "outputs": [],
   "source": [
    "# Figure 5a\n",
    "file_stem = \"./data/Fig5a-NLSL-\"\n",
    "results = pickle.load(open(file_stem +\"results.pickle\", \"rb\"))\n",
    "true_coeffs = pickle.load(open(\"./data/S2-NLSL-coeffs.pickle\", \"rb\"))\n",
    "\n",
    "results = score_p(results, true_coeffs)"
   ]
  },
  {
   "cell_type": "code",
   "execution_count": 4,
   "metadata": {},
   "outputs": [],
   "source": [
    "plot_nm = []\n",
    "plots_sc = []\n",
    "\n",
    "for result in results:\n",
    "    plot_nm.append(result['noise_mag'])\n",
    "    plots_sc.append(result['score'])"
   ]
  },
  {
   "cell_type": "code",
   "execution_count": 5,
   "metadata": {
    "scrolled": true
   },
   "outputs": [
    {
     "data": {
      "image/png": "[encoded data removed]",
      "text/plain": [
       "<Figure size 432x288 with 1 Axes>"
      ]
     },
     "metadata": {},
     "output_type": "display_data"
    },
    {
     "data": {
      "image/png": "[encoded data removed]",
      "text/plain": [
       "<Figure size 864x57.6 with 1 Axes>"
      ]
     },
     "metadata": {},
     "output_type": "display_data"
    }
   ],
   "source": [
    "import matplotlib as mpl\n",
    "mpl.rcParams[\"legend.markerscale\"] = 1.5\n",
    "mpl.rcParams[\"legend.labelspacing\"] = 1.2\n",
    "mpl.rcParams[\"legend.handlelength\"] = 3.5\n",
    "mpl.rcParams[\"legend.handletextpad\"] = 20\n",
    "\n",
    "figsize = (6,4)\n",
    "# Create figure\n",
    "plt.figure(figsize=figsize)\n",
    "# set axes\n",
    "ax1 = plt.gca()\n",
    "#ax1.autoscale(False, axis='y')\n",
    "# Plot the results\n",
    "#ax1.set_yscale('symlog')\n",
    "#loss_plot = [losses[idc] for idc in idcs]\n",
    "pltstyle=dict(linestyle=None,marker='o')\n",
    "ax1.semilogy(plot_nm, plots_sc, color='black', label = \"p(x) Error\", **pltstyle)\n",
    "# Place the legend\n",
    "lines = ax1.get_lines()\n",
    "labels = [line.get_label() for line in lines]\n",
    "labels = ['' for line in lines]\n",
    "# Turn off all the tick labels\n",
    "ax1.tick_params(labelbottom=False, labelleft=False)\n",
    "#plt.hlines(0.15, 0, 0.15, linestyles=\"--\")\n",
    "plt.xlim([0,0.1])\n",
    "plt.savefig('./Figs/5a-NLSL-pq-noise-vs-error.svg', dpi=600, transparent=True)\n",
    "\n",
    "# Create separate axes\n",
    "legend_figsize = (figsize[0]*2, figsize[1]/5)\n",
    "plt.figure(figsize=legend_figsize)\n",
    "ax = plt.gca()\n",
    "for spine in ax.spines:\n",
    "    ax.spines[spine].set_visible(False)\n",
    "ax.tick_params(labelleft=False, labelbottom=False, left=False, bottom=False)\n",
    "plt.legend(lines, labels, ncol=2, loc='center', frameon=False)\n",
    "plt.savefig('./Figs/5-legend.svg', dpi=600, transparent=True)\n",
    "\n",
    "plt.show()"
   ]
  },
  {
   "cell_type": "code",
   "execution_count": 6,
   "metadata": {},
   "outputs": [],
   "source": [
    "# Figure 5b\n",
    "file_stem = \"./data/Fig5b-NLSL-\"\n",
    "results = pickle.load(open(file_stem +\"results.pickle\", \"rb\"))\n",
    "true_coeffs = pickle.load(open(\"./data/S2-NLSL-coeffs.pickle\", \"rb\"))\n",
    "\n",
    "results = score_p(results, true_coeffs)\n",
    "\n",
    "plot_trials = []\n",
    "plots_sc = []\n",
    "\n",
    "for result in results:\n",
    "    plot_trials.append(result['num_trials'])\n",
    "    plots_sc.append(result['score'])"
   ]
  },
  {
   "cell_type": "code",
   "execution_count": 7,
   "metadata": {},
   "outputs": [
    {
     "data": {
      "image/png": "[encoded data removed]",
      "text/plain": [
       "<Figure size 432x288 with 1 Axes>"
      ]
     },
     "metadata": {},
     "output_type": "display_data"
    }
   ],
   "source": [
    "import matplotlib as mpl\n",
    "mpl.rcParams[\"legend.markerscale\"] = 1.5\n",
    "mpl.rcParams[\"legend.labelspacing\"] = 1.2\n",
    "mpl.rcParams[\"legend.handlelength\"] = 3.5\n",
    "mpl.rcParams[\"legend.handletextpad\"] = 20\n",
    "pltstyle=dict(linestyle=None,marker='o')\n",
    "\n",
    "\n",
    "figsize = (6,4)\n",
    "# Create figure\n",
    "plt.figure(figsize=figsize)\n",
    "# set axes\n",
    "ax1 = plt.gca()\n",
    "# Plot the results\n",
    "#plt.hlines(0.15, 0, 200, linestyles=\"--\")\n",
    "plt.semilogy(plot_trials, plots_sc, 'o-', color='k')\n",
    "\n",
    "# Place the legend\n",
    "lines = ax1.get_lines()\n",
    "labels = [line.get_label() for line in lines]\n",
    "labels = ['' for line in lines]\n",
    "\n",
    "# Turn off all the tick labels\n",
    "ax1.tick_params(labelbottom=False, labelleft=False)\n",
    "\n",
    "# Save figure\n",
    "plt.savefig('./Figs/5b-NLSL-trials-vs-error.svg', dpi=600, transparent=True)\n",
    "\n",
    "plt.show()"
   ]
  },
  {
   "cell_type": "code",
   "execution_count": 8,
   "metadata": {},
   "outputs": [
    {
     "name": "stdout",
     "output_type": "stream",
     "text": [
      "[0.292884825268925, 0.21452690420673007, 0.15614801349975646, 0.1084693733963122, 0.10656189745688766, 0.10871641123509808, 0.09130282329012424, 0.07928939494973766, 0.08840986759948678, 0.08429827780858089, 0.08558348980051828, 0.08317005961161977, 0.07143127558680834, 0.0647191425895788, 0.06732586341470456, 0.07100803772497244, 0.06735583768612637, 0.06761224931472408, 0.0643614682394475, 0.060984799409459896]\n"
     ]
    }
   ],
   "source": [
    "print(plots_sc)"
   ]
  }
 ],
 "metadata": {
  "kernelspec": {
   "display_name": "Python 3",
   "language": "python",
   "name": "python3"
  },
  "language_info": {
   "codemirror_mode": {
    "name": "ipython",
    "version": 3
   },
   "file_extension": ".py",
   "mimetype": "text/x-python",
   "name": "python",
   "nbconvert_exporter": "python",
   "pygments_lexer": "ipython3",
   "version": "3.8.5"
  }
 },
 "nbformat": 4,
 "nbformat_minor": 2
}
